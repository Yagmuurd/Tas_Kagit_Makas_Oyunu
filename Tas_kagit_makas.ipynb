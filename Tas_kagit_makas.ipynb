{
  "cells": [
    {
      "cell_type": "code",
      "execution_count": 7,
      "metadata": {},
      "outputs": [
        {
          "name": "stdout",
          "output_type": "stream",
          "text": [
            "Taş, Kağıt, Makas Oyununa Hoş Geldiniz!\n",
            "---------------------------------------\n",
            "\n",
            " 1 -> Taş \n",
            " 2 -> Kağıt \n",
            " 3 -> Makas \n",
            " Oyundan çıkmak isterseniz bu değerler dışında bir değer girmeniz yeterli :) \n",
            "Bilgisayarın Seçimi: 2\n",
            " Kazanan: Kullanıcı\n",
            "\n",
            " 1 -> Taş \n",
            " 2 -> Kağıt \n",
            " 3 -> Makas \n",
            " Oyundan çıkmak isterseniz bu değerler dışında bir değer girmeniz yeterli :) \n",
            "Bilgisayarın Seçimi: 1\n",
            " Kazanan: Kullanıcı\n",
            "\n",
            " 1 -> Taş \n",
            " 2 -> Kağıt \n",
            " 3 -> Makas \n",
            " Oyundan çıkmak isterseniz bu değerler dışında bir değer girmeniz yeterli :) \n",
            "Bilgisayarın Seçimi: 1\n",
            " Kazanan: Kullanıcı\n",
            "\n",
            " 1 -> Taş \n",
            " 2 -> Kağıt \n",
            " 3 -> Makas \n",
            " Oyundan çıkmak isterseniz bu değerler dışında bir değer girmeniz yeterli :) \n",
            "Bilgisayarın Seçimi: 2\n",
            " Kazanan: Bilgisayar\n",
            "\n",
            " 1 -> Taş \n",
            " 2 -> Kağıt \n",
            " 3 -> Makas \n",
            " Oyundan çıkmak isterseniz bu değerler dışında bir değer girmeniz yeterli :) \n",
            "\n",
            "Kullanıcı skoru: 300 \n",
            "Bilgisayarın skoru: 100\n"
          ]
        }
      ],
      "source": [
        "#taş, kağıt, makas oyunu\n",
        "import random\n",
        "player_score, computer_score = 0, 0\n",
        "\n",
        "def print_result(computer_choice, winner = \"Bilgisayar\"):\n",
        "    global computer_score, player_score\n",
        "    print(f'Bilgisayarın Seçimi: {computer_choice}\\n Kazanan: {winner}')\n",
        "    if winner == \"Bilgisayar\":\n",
        "        computer_score += 100\n",
        "    else:\n",
        "        player_score += 100\n",
        "\n",
        "print(\"Taş, Kağıt, Makas Oyununa Hoş Geldiniz!\\n\" + (\"-\" * 39))\n",
        "\n",
        "while True:\n",
        "    print(\"\\n 1 -> Taş \\n 2 -> Kağıt \\n 3 -> Makas \\n Oyundan çıkmak isterseniz bu değerler dışında bir değer girmeniz yeterli :) \")\n",
        "\n",
        "    player_choice = int(input(\"Seçiminizi yapınız: \"))\n",
        "    computer_choice = random.choice([1, 2, 3])\n",
        "\n",
        "    if player_choice not in range(1,4):\n",
        "        break\n",
        "    elif player_choice == computer_choice:\n",
        "        print(\"Berabere, yeniden başlatabilirsiniz\")\n",
        "    elif player_choice == 1:\n",
        "        if computer_choice == 2:\n",
        "            print_result(computer_choice)\n",
        "        elif computer_choice == 3:\n",
        "            print_result(computer_choice, \"Kullanıcı\")\n",
        "    elif player_choice == 2:\n",
        "        if computer_choice == 1:\n",
        "            print_result(computer_choice, \"Kullanıcı\")\n",
        "        elif computer_choice == 3:\n",
        "            print_result(computer_choice)\n",
        "    elif player_choice == 3:\n",
        "        if computer_choice == 1:\n",
        "            print_result(computer_choice)\n",
        "        elif computer_choice == 2:\n",
        "            print_result(computer_choice, \"Kullanıcı\") \n",
        "\n",
        "print(f'\\nKullanıcı skoru: {player_score} \\nBilgisayarın skoru: {computer_score}')\n",
        "if player_score < computer_score:\n",
        "    print(f\"Kullanıcı {computer_score - player_score} farkla bilgisyara yenilmiştir.\")\n",
        "elif player_score > computer_score:\n",
        "    print(f\"Kullanıcı {player_score - computer_score} farkla bilgisyara yenmiştir.\")\n",
        "else:\n",
        "    print(\"Oyun berabere!\")"
      ]
    },
    {
      "cell_type": "markdown",
      "metadata": {},
      "source": []
    }
  ],
  "metadata": {
    "colab": {
      "name": "2. Hafta.ipynb",
      "provenance": []
    },
    "interpreter": {
      "hash": "5b7bcb5cad9bed29e3bc2556c968cd63ae79dbab1d37c4997008c560d2c4b0cc"
    },
    "kernelspec": {
      "display_name": "Python 3.9.7 ('base')",
      "language": "python",
      "name": "python3"
    },
    "language_info": {
      "codemirror_mode": {
        "name": "ipython",
        "version": 3
      },
      "file_extension": ".py",
      "mimetype": "text/x-python",
      "name": "python",
      "nbconvert_exporter": "python",
      "pygments_lexer": "ipython3",
      "version": "3.9.7"
    }
  },
  "nbformat": 4,
  "nbformat_minor": 0
}
